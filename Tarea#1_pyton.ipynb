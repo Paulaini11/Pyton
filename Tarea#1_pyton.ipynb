{
 "cells": [
  {
   "cell_type": "markdown",
   "id": "26f8796d",
   "metadata": {},
   "source": [
    "### <center><h2> INGENIERÍA EN BIOTECNOLOGÍA</h2></center>\n",
    "# <center><h1 style=\"color:pink\">GBI6 - BIOINFORMÁTICA</h1></center>\n",
    "<img src=\"https://www.ikiam.edu.ec/img/logo-ikiam-grey.png\" width=400 height=300 />\n",
    "\n",
    "# <center><h1 style=\"color:blue\">T5_ManipulacionSecuencias</h1></center>"
   ]
  },
  {
   "cell_type": "markdown",
   "id": "27c6aec8",
   "metadata": {},
   "source": [
    "# <center><h1 style=\"color:pink\">Dogma central de la biologia</h1></center>\n",
    "<h1 style=\"color:gray\">El «Dogma central de la biología molecular» es un concepto que ilustra los mecanismos de transmisión y expresión de la herencia genética. Propone que existe  unidireccionalidad en la expresión de la información contenida en los genes de una célula, es decir, que el ADN es transcrito a ARN mensajero y que éste es traducido a proteína..</h1></center>\n",
    "<img src=\"http://3.bp.blogspot.com/-AMxilJiVJAE/VAIvyOec1VI/AAAAAAAAAHk/gRJ12WFA1js/s1600/DOGMA2.JPG\" width=400 height=300 />\n",
    "<h1 style=\"color:gray\">El producto final es la creación de proteínas y recibe en nombre de síntesis de proteínas.Éste consiste de dos procesos: transcripción y traducción. La transcripción ocurre en el\n",
    "núcleo. Utiliza el ADN como modelo para crear una molécula de ARN. EL ARN luego sale\n",
    "del núcleo y va a un ribosoma en el citoplasma, donde ocurre la traducción. La traducción\n",
    "lee el código genético en el ARNm y crea una proteína.</h1></center>\n",
    "\n",
    "## <h1 style=\"color:crimson\">Se compone de:</h1></center>\n",
    "\n",
    "### <h1 style=\"color:orange\">Transcripción o síntesis del ARN o RNA</h1></center>\n",
    "<h1 style=\"color:gray\">La transcripción consiste en la síntesis de ARN tomando como molde ADN y significa el paso de la información contenida en el ADN hacia el ARN. La transferencia de la información del ADN hacia el ARN se realiza siguiendo las reglas de complementaridad de las bases nitrogenadas y es semejante al proceso de transcripción de textos, motivo por el que ha recibido este nombre. El ARN producto de la transcripción recibe el nombre de transcrito.</h1></center>\n",
    "<h1 style=\"color:gray\">La transcripción es la primera parte del dogma central de la biología molecular: ADN →\n",
    "ARN. Es la transferencia de instrucciones genéticas en el ADN al ARN mensajero (ARNm).\n",
    "Durante la transcripción, se crea una hebra de ARNm que es complementaria a la hebra\n",
    "de ADN</h1></center>\n",
    "<img src=\"http://hyperphysics.phy-astr.gsu.edu/hbasees/Organic/imgorg/transcbub3.png\" width=400 height=300 />\n"
   ]
  },
  {
   "cell_type": "code",
   "execution_count": 1,
   "id": "882ec823",
   "metadata": {
    "scrolled": false
   },
   "outputs": [
    {
     "data": {
      "text/plain": [
       "'AAGGACCNGACATCCATCGCTGATGTCAATCCCCCGTGGATCGTAAGTCCGGGAGTAGGAGGAGGAAGGGTCGTCCCACAGTGCGAAGAGGCTTCTGACCTACTGACGGTACCTCCTCAGTGTCAGCCTATAGTCGGAGCTCGAGGGAGACTCGGTCCTCTGTAAAAGTCCGAATACCTTTGATGAAGGAGGTCTTCTATAGGACGGTAG'"
      ]
     },
     "execution_count": 1,
     "metadata": {},
     "output_type": "execute_result"
    }
   ],
   "source": [
    "seq = \"AAGGACCNGACATCCATCGCTGATGTCAATCCCCCGTGGATCGTAAGTCCGGGAGTAGGAGGAGGAAGGGTCGTCCCACAGTGCGAAGAGGCTTCTGACCTACTGACGGTACCTCCTCAGTGTCAGCCTATAGTCGGAGCTCGAGGGAGACTCGGTCCTCTGTAAAAGTCCGAATACCTTTGATGAAGGAGGTCTTCTATAGGACGGTAG\"\n",
    "seq\n",
    "#La secueciancia de interes "
   ]
  },
  {
   "cell_type": "code",
   "execution_count": 2,
   "id": "7fe23347",
   "metadata": {},
   "outputs": [
    {
     "name": "stdout",
     "output_type": "stream",
     "text": [
      "AAGGACCGACATCCATCGCTGATGTCAATCCCCCGTGGATCGTAAGTCCGGGAGTAGGAGGAGGAAGGGTCGTCCCACAGTGCGAAGAGGCTTCTGACCTACTGACGGTACCTCCTCAGTGTCAGCCTATAGTCGGAGCTCGAGGGAGACTCGGTCCTCTGTAAAAGTCCGAATACCTTTGATGAAGGAGGTCTTCTATAGGACGGTAG\n"
     ]
    }
   ],
   "source": [
    "#Quitamos la N de la secuencia \n",
    "seq2= seq.replace(\"N\", \"\")#con este codigo remplazamos la N por Nada(\"\")\n",
    "print(seq2)#codigo para imprimir "
   ]
  },
  {
   "cell_type": "code",
   "execution_count": 3,
   "id": "f2842a4d",
   "metadata": {},
   "outputs": [
    {
     "data": {
      "text/plain": [
       "54.54545454545455"
      ]
     },
     "execution_count": 3,
     "metadata": {},
     "output_type": "execute_result"
    }
   ],
   "source": [
    "#PORCENTAJE DE GC\n",
    "Nc= seq2.count(\"C\")#codigo para contar C\n",
    "Ng= seq2.count(\"G\")#codigo para contar G\n",
    "len_seq2= len(seq2)#codigo para contar todo los caracteres\n",
    "percent_GC= 100*(Nc+Ng)/len_seq2 #calculo de porcentaje\n",
    "percent_GC"
   ]
  },
  {
   "cell_type": "code",
   "execution_count": 5,
   "id": "18eab2c5",
   "metadata": {},
   "outputs": [
    {
     "name": "stdout",
     "output_type": "stream",
     "text": [
      "UUCCUGGCUGUAGGUAGCGACUACAGUUAGGGGGCACCUAGCAUUCAGGCCCUCAUCCUCCUCCUUCCCAGCAGGGUGUCACGCUUCUCCGAAGACUGGAUGACUGCCAUGGAGGAGUCACAGUCGGAUAUCAGCCUCGAGCUCCCUCUGAGCCAGGAGACAUUUUCAGGCUUAUGGAAACUACUUCCUCCAGAAGAUAUCCUGCCAUC\n"
     ]
    }
   ],
   "source": [
    "#Sacamos la cadena complementaria de la secuencia\n",
    "seq3= seq2.replace (\"A\", \"U\")#en esta seccion remplazamos A por U recordemos que en complementario sera un ARN donde la tinina se sustituye por uracilo\n",
    "seq4= seq3.replace (\"T\", \"a\")#en esta seccion en la secuencia anterior remplazamos T por a\n",
    "seq5= seq4.replace (\"C\", \"g\")#en esta seccion en la secuencia anterior remplazamos C por g\n",
    "seq6= seq5.replace (\"G\", \"c\")#en esta seccion en la secuencia anterior remplazamos G por c\n",
    "cseq= seq6.upper()#El codigo anterior no quedo en minusculas en esta seccion tranformamos todas a mayusculas\n",
    "print(cseq)#codigo para imprimir"
   ]
  },
  {
   "cell_type": "code",
   "execution_count": 6,
   "id": "8a32fd5e",
   "metadata": {},
   "outputs": [
    {
     "name": "stdout",
     "output_type": "stream",
     "text": [
      "CUACCGUCCUAUAGAAGACCUCCUUCAUCAAAGGUAUUCGGACUUUUACAGAGGACCGAGUCUCCCUCGAGCUCCGACUAUAGGCUGACACUGAGGAGGUACCGUCAGUAGGUCAGAAGCCUCUUCGCACUGUGGGACGACCCUUCCUCCUCCUACUCCCGGACUUACGAUCCACGGGGGAUUGACAUCAGCGAUGGAUGUCGGUCCUU\n"
     ]
    }
   ],
   "source": [
    "#Recordemos que nuestro complementario estara en la direccion 3' a 5' pero nuestro ARNm debe estar en la direccion 5' a 3'\n",
    "rseq = cseq [::-1]#mediante este codigo sacamos el inverso del complementario\n",
    "print(rseq)"
   ]
  },
  {
   "cell_type": "markdown",
   "id": "4f4ec4e6",
   "metadata": {},
   "source": [
    "### <h1 style=\"color:yelow\">Traducción o síntesis de las cadenas polipeptídicas.</h1></center>\n",
    "<h1 style=\"color:gray\">La información necesaria para construir las proteinas, reside en el ADN en forma de secuencias de bases, y tiene la forma de tripletes de bases llamados \"codones\" tras el código genético. Una vez que la información genética que describe cómo construir una proteina se transcribe al ARN, tiene que ser \"traducida\" al \"lenguaje\" de la proteína. La secuencia de bases en el ARN forma un código para los bloques de construcción de los aminoácidos de la proteína. La palabra \"traducción\" parece particularmente apropiada para este proceso, ya que la información contenida en el ADN, se traduce desde el alfabeto de cuatro caracteres de las bases, al alfabeto de veinte caracteres de los aminoácidos.La construcción de las proteínas se lleva a cabo en los ribosomas de la célula anfitriona. Hay ribosomas flotantes libres donde se construyen proteínas para funciones en el citoplasma. Esas proteínas que se van a utilizar como parte de la membrana celular, o que son transportadas fuera de la célula, se fabrican en los ribosomas que están unidos al retículo endoplásmico.</h1></center>\n",
    "<img src=\"http://hyperphysics.phy-astr.gsu.edu/hbasees/Organic/imgorg/translation2.png\" width=400 height=300 />\n",
    "<h1 style=\"color:yelow\">El código genético.</h1></center>\n",
    "<h1 style=\"color:gray\">En un ARNm, las instrucciones para construir un polipéptido vienen en grupos de tres nucleótidos llamados codones. A continuación, tenemos algunas características clave de los codones:</h1></center>\n",
    "<h1 style=\"color:purple\"> Hay 616161 codones distintos para aminoácidos</h1></center>\n",
    "<h1 style=\"color:purple\"> Tres codones de \"alto\" indican que el polipéptido ha terminado</h1></center>\n",
    "<h1 style=\"color:purple\"> Un codón AUG, es la señal de \"inicio\" para comenzar la traducción (además especifica el aminoácido metionina).</h1></center>\n",
    "<h1 style=\"color:gray\"> Estas relaciones entre los codones del ARNm y los aminoácidos se conoce como el código genético.</h1></center>\n",
    "<img src=\"https://cdn.kastatic.org/ka-perseus-images/a736126e791afe019d17e4d1a1e6a10eff462cf5.png\" width=400 height=300 />"
   ]
  },
  {
   "cell_type": "code",
   "execution_count": 7,
   "id": "3ab9b04e",
   "metadata": {
    "scrolled": true
   },
   "outputs": [
    {
     "name": "stdout",
     "output_type": "stream",
     "text": [
      "CUACCGUCCUAUAGAAGACCUCCUUCAUCAAAGGUAUUCGGACUUUUACAGAGGACCGAGUCUCCCUCGAGCUCCGACUAUAGGCUGACACUGAGGAGGUACCGUCAGUAGGUCAGAAGCCUCUUCGCACUGUGGGACGACCCUUCCUCCUCCUACUCCCGGACUUACGAUCCACGGGGGAUUGACAUCAGCGstarGstarUCGGUCCUU\n",
      "CUACCGUCCUAstopAAGACCUCCUUCAUCAAAGGUAUUCGGACUUUUACAGAGGACCGAGUCUCCCUCGAGCUCCGACUAstopGCUGACACUGAGGAGGUACCGUCAGstopGUCAGAAGCCUCUUCGCACUGUGGGACGACCCUUCCUCCUCCUACUCCCGGACUUACGAUCCACGGGGGAUUGACAUCAGCGstarGstarUCGGUCCUU\n",
      "CUACCGUCCUAUAGAAGACCUCCUUCAUCAAAGGUAUUCGGACUUUUACAGAGGACCGAGUCUCCCUCGAGCUCCGACUAUAGGCstopCACstopGGAGGUACCGUCAGUAGGUCAGAAGCCUCUUCGCACUGUGGGACGACCCUUCCUCCUCCUACUCCCGGACUUACGAUCCACGGGGGAUstopCAUCAGCGstarGstarUCGGUCCUU\n"
     ]
    }
   ],
   "source": [
    "#Recordemos que el ARN MENSAJERO NO VA DE DE 3' A 5' sino de 5' a 3'\n",
    "rnam_show3= rseq.replace(\"AUG\",\"star\") #en esta seccion remplazamos AUG como star para marcar nuestro codon de inicio en nuestra secuencia\n",
    "rnam_seq1= rnam_show3.replace(\"UAA\",\"stop\") #en esta seccion remplazamos UAA como stOP para marcar nuestro codon de fin en nuestra secuencia\n",
    "rnam_seq2= rnam_show3.replace(\"UAG\",\"stop\") #en esta seccion remplazamos UAG como stOP para marcar nuestro codon de fin en nuestra secuencia\n",
    "rnam_seq3= rnam_show3.replace(\"UGA\",\"stop\") #en esta seccion remplazamos UGA como stOP para marcar nuestro codon de fin en nuestra secuencia\n",
    "print(rnam_seq1)#RNAm CON STOP DE TAA\n",
    "print(rnam_seq2)#RNAm CON STOP TAG\n",
    "print(rnam_seq3)#RNAm CON STOP TGA"
   ]
  },
  {
   "cell_type": "code",
   "execution_count": 4,
   "id": "a5b542d9",
   "metadata": {},
   "outputs": [
    {
     "ename": "NameError",
     "evalue": "name 'rnam_seq1' is not defined",
     "output_type": "error",
     "traceback": [
      "\u001b[1;31m---------------------------------------------------------------------------\u001b[0m",
      "\u001b[1;31mNameError\u001b[0m                                 Traceback (most recent call last)",
      "Input \u001b[1;32mIn [4]\u001b[0m, in \u001b[0;36m<cell line: 3>\u001b[1;34m()\u001b[0m\n\u001b[0;32m      1\u001b[0m \u001b[38;5;66;03m#Seleccion de codon de nuestro ARNm\u001b[39;00m\n\u001b[0;32m      2\u001b[0m \u001b[38;5;66;03m#como nuestro codon de ARNm se le de 5' a 3' lo correcto seria que nuestro inicio sea el stop y nuestro fin el star\u001b[39;00m\n\u001b[1;32m----> 3\u001b[0m start \u001b[38;5;241m=\u001b[39m \u001b[43mrnam_seq1\u001b[49m\u001b[38;5;241m.\u001b[39mfind(\u001b[38;5;124m\"\u001b[39m\u001b[38;5;124mstop\u001b[39m\u001b[38;5;124m\"\u001b[39m) \u001b[38;5;66;03m# Codon de inicio\u001b[39;00m\n\u001b[0;32m      4\u001b[0m end \u001b[38;5;241m=\u001b[39m rnam_seq1\u001b[38;5;241m.\u001b[39mfind(\u001b[38;5;124m\"\u001b[39m\u001b[38;5;124mstar\u001b[39m\u001b[38;5;124m\"\u001b[39m) \u001b[38;5;66;03m# Codon de final\u001b[39;00m\n\u001b[0;32m      5\u001b[0m codon1r\u001b[38;5;241m=\u001b[39m rnam_seq1[start : end \u001b[38;5;241m+\u001b[39m \u001b[38;5;241m4\u001b[39m] \u001b[38;5;66;03m#codon de nuestra secuencia de RNAm1\u001b[39;00m\n",
      "\u001b[1;31mNameError\u001b[0m: name 'rnam_seq1' is not defined"
     ]
    }
   ],
   "source": [
    "#Seleccion de codon de nuestro ARNm\n",
    "#como nuestro codon de ARNm se le de 5' a 3' lo correcto seria que nuestro inicio sea el stop y nuestro fin el star\n",
    "start = rnam_seq1.find(\"stop\") # Codon de inicio\n",
    "end = rnam_seq1.find(\"star\") # Codon de final\n",
    "codon1r= rnam_seq1[start : end + 4] #codon de nuestra secuencia de RNAm1\n",
    "start = rnam_seq2.find(\"stop\") # Codon de inicio\n",
    "end = rnam_seq2.find(\"star\") # Codon de final\n",
    "codon2r= rnam_seq2[start : end + 4] #codon de nuestra secuencia de RNm2\n",
    "start = rnam_seq3.find(\"stop\") # Codon de inicio\n",
    "end = rnam_seq3.find(\"star\") # Codon de final\n",
    "codon3r= rnam_seq3[start : end + 4] #codon de nuestra secuencia de RNAm3\n",
    "print(codon1r)#imprimimos nuestros codones\n",
    "print(codon2r)\n",
    "print(codon3r)\n",
    "#Al imprimir nos damos cuenta que el que tiene mayor material es nuestro codon 2 asi que lo seleccionamos y traducimos\n",
    "codon_showr= codon2r.replace(\"star\", \"AUG\")#traduccion de start por AUG\n",
    "RNAm_codon= codon_showr.replace(\"stop\", \"UAG\")#traduccion de stop por UAG por que el codon2r ese el resultado de nuestra rnam_seq2\n",
    "print(RNAm_codon) #imprimimos el codon"
   ]
  },
  {
   "cell_type": "markdown",
   "id": "cecf9bc1",
   "metadata": {},
   "source": [
    "<h1 style=\"color:pink\">Nuestro ARNm</h1></center>\n",
    "<h1 style=\"color:gray\">Nuestro RNAm con mas material es el siguinete, este en la direccion 5'a 3' traducira una secuencia de ADN 3' a 5'.</h1></center>\n",
    "<h1 style=\"color:yelow\">UGAAAGACCUCCUUCAUCAAAGGUAUUCGGACUUUUACAGAGGACCGAGUCUCCCUCGAGCUCCGACUAUGAGCUGACACUGAGGAGGUACCGUCAGUGAGUCAGAAGCCUCUUCGCACUGUGGGACGACCCUUCCUCCUCCUACUCCCGGACUUACGAUCCACGGGGGAUUGACAUCAGCGAUG</h1></center>"
   ]
  },
  {
   "cell_type": "code",
   "execution_count": null,
   "id": "7757a6e1",
   "metadata": {},
   "outputs": [],
   "source": []
  }
 ],
 "metadata": {
  "kernelspec": {
   "display_name": "Python 3 (ipykernel)",
   "language": "python",
   "name": "python3"
  },
  "language_info": {
   "codemirror_mode": {
    "name": "ipython",
    "version": 3
   },
   "file_extension": ".py",
   "mimetype": "text/x-python",
   "name": "python",
   "nbconvert_exporter": "python",
   "pygments_lexer": "ipython3",
   "version": "3.9.12"
  }
 },
 "nbformat": 4,
 "nbformat_minor": 5
}
